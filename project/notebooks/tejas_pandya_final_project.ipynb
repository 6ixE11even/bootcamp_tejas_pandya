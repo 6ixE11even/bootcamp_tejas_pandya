{
 "cells": [
  {
   "cell_type": "markdown",
   "id": "2be1dd76",
   "metadata": {},
   "source": [
    "# Final Project (main)"
   ]
  },
  {
   "cell_type": "code",
   "execution_count": 1,
   "id": "c3b065e6",
   "metadata": {},
   "outputs": [
    {
     "name": "stdout",
     "output_type": "stream",
     "text": [
      "All libraries imported successfully!\n"
     ]
    }
   ],
   "source": [
    "# importing libraries\n",
    "try:\n",
    "    import pandas as pd\n",
    "    import numpy as np\n",
    "    import sys, os\n",
    "    from pathlib import Path\n",
    "    from datetime import datetime\n",
    "    import matplotlib.pyplot as plt\n",
    "    print(\"All libraries imported successfully!\")\n",
    "except Exception as e:\n",
    "    print(\"Error importing library: \", e)"
   ]
  },
  {
   "cell_type": "markdown",
   "id": "af46c588",
   "metadata": {},
   "source": [
    "## Creating folder structure"
   ]
  },
  {
   "cell_type": "code",
   "execution_count": 2,
   "id": "a3ac2b3b",
   "metadata": {},
   "outputs": [
    {
     "name": "stdout",
     "output_type": "stream",
     "text": [
      "Folder structure created successfully!\n"
     ]
    }
   ],
   "source": [
    "# folder paths\n",
    "data_path = Path.cwd().parent / 'data'\n",
    "raw_path = Path.cwd().parent / 'data' / 'raw'\n",
    "processed_path = Path.cwd().parent / 'data' / 'processed'\n",
    "docs_path = Path.cwd().parent / 'docs'\n",
    "src_path = Path.cwd().parent / 'src'\n",
    "path_list = [data_path, raw_path, processed_path, docs_path, src_path]\n",
    "\n",
    "# creating folders (if already existing- skip)\n",
    "try:\n",
    "    for path in path_list:\n",
    "        os.makedirs(path, exist_ok=True)\n",
    "    print(\"Folder structure created successfully!\")\n",
    "except Exception as e:\n",
    "    print(\"Error creating folder structure!\", e)"
   ]
  }
 ],
 "metadata": {
  "kernelspec": {
   "display_name": "bootcamp_env",
   "language": "python",
   "name": "python3"
  },
  "language_info": {
   "codemirror_mode": {
    "name": "ipython",
    "version": 3
   },
   "file_extension": ".py",
   "mimetype": "text/x-python",
   "name": "python",
   "nbconvert_exporter": "python",
   "pygments_lexer": "ipython3",
   "version": "3.13.5"
  }
 },
 "nbformat": 4,
 "nbformat_minor": 5
}
