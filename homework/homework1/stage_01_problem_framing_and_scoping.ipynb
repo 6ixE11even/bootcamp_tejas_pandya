{
 "cells": [
  {
   "cell_type": "markdown",
   "id": "46dc488b",
   "metadata": {},
   "source": [
    "**Creating folder structure in homework folder for homework1**"
   ]
  },
  {
   "cell_type": "code",
   "execution_count": null,
   "id": "2624ea24",
   "metadata": {},
   "outputs": [],
   "source": []
  },
  {
   "cell_type": "code",
   "execution_count": null,
   "id": "33bf8497",
   "metadata": {},
   "outputs": [],
   "source": []
  }
 ],
 "metadata": {
  "kernelspec": {
   "display_name": "bootcamp_env",
   "language": "python",
   "name": "python3"
  },
  "language_info": {
   "codemirror_mode": {
    "name": "ipython",
    "version": 3
   },
   "file_extension": ".py",
   "mimetype": "text/x-python",
   "name": "python",
   "nbconvert_exporter": "python",
   "pygments_lexer": "ipython3",
   "version": "3.13.5"
  }
 },
 "nbformat": 4,
 "nbformat_minor": 5
}
