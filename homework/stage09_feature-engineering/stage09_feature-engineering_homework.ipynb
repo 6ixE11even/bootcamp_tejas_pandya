{
 "cells": [
  {
   "cell_type": "markdown",
   "metadata": {},
   "source": [
    "# Stage 09 — Homework Starter Notebook\n",
    "\n",
    "In the lecture, we learned how to create engineered features. Now it’s your turn to apply those ideas to your own project data."
   ]
  },
  {
   "cell_type": "code",
   "execution_count": 1,
   "metadata": {},
   "outputs": [
    {
     "data": {
      "application/vnd.microsoft.datawrangler.viewer.v0+json": {
       "columns": [
        {
         "name": "index",
         "rawType": "int64",
         "type": "integer"
        },
        {
         "name": "income",
         "rawType": "int64",
         "type": "integer"
        },
        {
         "name": "monthly_spend",
         "rawType": "int64",
         "type": "integer"
        },
        {
         "name": "credit_score",
         "rawType": "int64",
         "type": "integer"
        }
       ],
       "ref": "6f01f660-3bdf-4a9c-8a34-113a03d542e6",
       "rows": [
        [
         "0",
         "86460",
         "3129",
         "661"
        ],
        [
         "1",
         "66002",
         "1191",
         "668"
        ],
        [
         "2",
         "74681",
         "1237",
         "734"
        ],
        [
         "3",
         "93613",
         "2581",
         "712"
        ],
        [
         "4",
         "88013",
         "1296",
         "712"
        ]
       ],
       "shape": {
        "columns": 3,
        "rows": 5
       }
      },
      "text/html": [
       "<div>\n",
       "<style scoped>\n",
       "    .dataframe tbody tr th:only-of-type {\n",
       "        vertical-align: middle;\n",
       "    }\n",
       "\n",
       "    .dataframe tbody tr th {\n",
       "        vertical-align: top;\n",
       "    }\n",
       "\n",
       "    .dataframe thead th {\n",
       "        text-align: right;\n",
       "    }\n",
       "</style>\n",
       "<table border=\"1\" class=\"dataframe\">\n",
       "  <thead>\n",
       "    <tr style=\"text-align: right;\">\n",
       "      <th></th>\n",
       "      <th>income</th>\n",
       "      <th>monthly_spend</th>\n",
       "      <th>credit_score</th>\n",
       "    </tr>\n",
       "  </thead>\n",
       "  <tbody>\n",
       "    <tr>\n",
       "      <th>0</th>\n",
       "      <td>86460</td>\n",
       "      <td>3129</td>\n",
       "      <td>661</td>\n",
       "    </tr>\n",
       "    <tr>\n",
       "      <th>1</th>\n",
       "      <td>66002</td>\n",
       "      <td>1191</td>\n",
       "      <td>668</td>\n",
       "    </tr>\n",
       "    <tr>\n",
       "      <th>2</th>\n",
       "      <td>74681</td>\n",
       "      <td>1237</td>\n",
       "      <td>734</td>\n",
       "    </tr>\n",
       "    <tr>\n",
       "      <th>3</th>\n",
       "      <td>93613</td>\n",
       "      <td>2581</td>\n",
       "      <td>712</td>\n",
       "    </tr>\n",
       "    <tr>\n",
       "      <th>4</th>\n",
       "      <td>88013</td>\n",
       "      <td>1296</td>\n",
       "      <td>712</td>\n",
       "    </tr>\n",
       "  </tbody>\n",
       "</table>\n",
       "</div>"
      ],
      "text/plain": [
       "   income  monthly_spend  credit_score\n",
       "0   86460           3129           661\n",
       "1   66002           1191           668\n",
       "2   74681           1237           734\n",
       "3   93613           2581           712\n",
       "4   88013           1296           712"
      ]
     },
     "execution_count": 1,
     "metadata": {},
     "output_type": "execute_result"
    }
   ],
   "source": [
    "import pandas as pd\n",
    "import numpy as np\n",
    "\n",
    "# Example synthetic data (replace with your project dataset)\n",
    "np.random.seed(0)\n",
    "n = 100\n",
    "df = pd.DataFrame({\n",
    "    'income': np.random.normal(60000, 15000, n).astype(int),\n",
    "    'monthly_spend': np.random.normal(2000, 600, n).astype(int),\n",
    "    'credit_score': np.random.normal(680, 50, n).astype(int)\n",
    "})\n",
    "df.head()\n"
   ]
  },
  {
   "cell_type": "markdown",
   "metadata": {},
   "source": [
    "## TODO: Implement at least 2 engineered features here"
   ]
  },
  {
   "cell_type": "code",
   "execution_count": null,
   "metadata": {},
   "outputs": [
    {
     "data": {
      "application/vnd.microsoft.datawrangler.viewer.v0+json": {
       "columns": [
        {
         "name": "index",
         "rawType": "int64",
         "type": "integer"
        },
        {
         "name": "income",
         "rawType": "int64",
         "type": "integer"
        },
        {
         "name": "monthly_spend",
         "rawType": "int64",
         "type": "integer"
        },
        {
         "name": "credit_score",
         "rawType": "int64",
         "type": "integer"
        },
        {
         "name": "credit_util_score",
         "rawType": "float64",
         "type": "float"
        }
       ],
       "ref": "7bf83320-b0da-4d75-8418-72f2c36ea45a",
       "rows": [
        [
         "0",
         "86460",
         "3129",
         "661",
         "4.733736762481089"
        ],
        [
         "1",
         "66002",
         "1191",
         "668",
         "1.782934131736527"
        ],
        [
         "2",
         "74681",
         "1237",
         "734",
         "1.6852861035422344"
        ],
        [
         "3",
         "93613",
         "2581",
         "712",
         "3.625"
        ],
        [
         "4",
         "88013",
         "1296",
         "712",
         "1.8202247191011236"
        ],
        [
         "5",
         "45340",
         "3166",
         "599",
         "5.285475792988314"
        ],
        [
         "6",
         "74251",
         "1751",
         "678",
         "2.5825958702064895"
        ],
        [
         "7",
         "57729",
         "1551",
         "643",
         "2.4121306376360807"
        ],
        [
         "8",
         "58451",
         "3153",
         "693",
         "4.54978354978355"
        ],
        [
         "9",
         "66158",
         "2888",
         "675",
         "4.278518518518519"
        ],
        [
         "10",
         "62160",
         "3120",
         "725",
         "4.303448275862069"
        ],
        [
         "11",
         "81814",
         "2543",
         "695",
         "3.6589928057553958"
        ],
        [
         "12",
         "71415",
         "1483",
         "719",
         "2.062586926286509"
        ],
        [
         "13",
         "61825",
         "3146",
         "656",
         "4.795731707317073"
        ],
        [
         "14",
         "66657",
         "1839",
         "632",
         "2.9098101265822787"
        ],
        [
         "15",
         "65005",
         "2481",
         "659",
         "3.764795144157815"
        ],
        [
         "16",
         "82411",
         "2568",
         "679",
         "3.7820324005891015"
        ],
        [
         "17",
         "56922",
         "1906",
         "698",
         "2.7306590257879657"
        ],
        [
         "18",
         "64696",
         "2368",
         "792",
         "2.98989898989899"
        ],
        [
         "19",
         "47188",
         "2553",
         "677",
         "3.771048744460857"
        ],
        [
         "20",
         "21705",
         "2225",
         "632",
         "3.5205696202531644"
        ],
        [
         "21",
         "69804",
         "1340",
         "662",
         "2.02416918429003"
        ],
        [
         "22",
         "72966",
         "2178",
         "656",
         "3.3201219512195124"
        ],
        [
         "23",
         "48867",
         "2795",
         "704",
         "3.9701704545454546"
        ],
        [
         "24",
         "94046",
         "1583",
         "602",
         "2.629568106312292"
        ],
        [
         "25",
         "38184",
         "1910",
         "683",
         "2.7964860907759883"
        ],
        [
         "26",
         "60686",
         "1738",
         "687",
         "2.529839883551674"
        ],
        [
         "27",
         "57192",
         "3109",
         "691",
         "4.499276410998553"
        ],
        [
         "28",
         "82991",
         "2403",
         "650",
         "3.6969230769230768"
        ],
        [
         "29",
         "82040",
         "2244",
         "668",
         "3.3592814371257487"
        ],
        [
         "30",
         "62324",
         "1538",
         "608",
         "2.5296052631578947"
        ],
        [
         "31",
         "65672",
         "2323",
         "655",
         "3.546564885496183"
        ],
        [
         "32",
         "46683",
         "1595",
         "652",
         "2.446319018404908"
        ],
        [
         "33",
         "30288",
         "2019",
         "700",
         "2.8842857142857143"
        ],
        [
         "34",
         "54781",
         "1618",
         "622",
         "2.6012861736334405"
        ],
        [
         "35",
         "62345",
         "2405",
         "719",
         "3.344923504867872"
        ],
        [
         "36",
         "78454",
         "2345",
         "754",
         "3.110079575596817"
        ],
        [
         "37",
         "78035",
         "1875",
         "576",
         "3.2552083333333335"
        ],
        [
         "38",
         "54190",
         "2237",
         "701",
         "3.1911554921540657"
        ],
        [
         "39",
         "55465",
         "1344",
         "713",
         "1.884992987377279"
        ],
        [
         "40",
         "44271",
         "1105",
         "648",
         "1.7052469135802468"
        ],
        [
         "41",
         "38699",
         "2263",
         "660",
         "3.4287878787878787"
        ],
        [
         "42",
         "34405",
         "2100",
         "673",
         "3.1203566121842496"
        ],
        [
         "43",
         "89261",
         "2381",
         "665",
         "3.5804511278195488"
        ],
        [
         "44",
         "52355",
         "3429",
         "664",
         "5.164156626506024"
        ],
        [
         "45",
         "53428",
         "2566",
         "596",
         "4.305369127516778"
        ],
        [
         "46",
         "41208",
         "1452",
         "737",
         "1.9701492537313432"
        ],
        [
         "47",
         "71662",
         "2670",
         "733",
         "3.6425648021828105"
        ],
        [
         "48",
         "35791",
         "1210",
         "639",
         "1.89358372456964"
        ],
        [
         "49",
         "56808",
         "1723",
         "606",
         "2.8432343234323434"
        ]
       ],
       "shape": {
        "columns": 4,
        "rows": 100
       }
      },
      "text/html": [
       "<div>\n",
       "<style scoped>\n",
       "    .dataframe tbody tr th:only-of-type {\n",
       "        vertical-align: middle;\n",
       "    }\n",
       "\n",
       "    .dataframe tbody tr th {\n",
       "        vertical-align: top;\n",
       "    }\n",
       "\n",
       "    .dataframe thead th {\n",
       "        text-align: right;\n",
       "    }\n",
       "</style>\n",
       "<table border=\"1\" class=\"dataframe\">\n",
       "  <thead>\n",
       "    <tr style=\"text-align: right;\">\n",
       "      <th></th>\n",
       "      <th>income</th>\n",
       "      <th>monthly_spend</th>\n",
       "      <th>credit_score</th>\n",
       "      <th>credit_util_score</th>\n",
       "    </tr>\n",
       "  </thead>\n",
       "  <tbody>\n",
       "    <tr>\n",
       "      <th>0</th>\n",
       "      <td>86460</td>\n",
       "      <td>3129</td>\n",
       "      <td>661</td>\n",
       "      <td>4.733737</td>\n",
       "    </tr>\n",
       "    <tr>\n",
       "      <th>1</th>\n",
       "      <td>66002</td>\n",
       "      <td>1191</td>\n",
       "      <td>668</td>\n",
       "      <td>1.782934</td>\n",
       "    </tr>\n",
       "    <tr>\n",
       "      <th>2</th>\n",
       "      <td>74681</td>\n",
       "      <td>1237</td>\n",
       "      <td>734</td>\n",
       "      <td>1.685286</td>\n",
       "    </tr>\n",
       "    <tr>\n",
       "      <th>3</th>\n",
       "      <td>93613</td>\n",
       "      <td>2581</td>\n",
       "      <td>712</td>\n",
       "      <td>3.625000</td>\n",
       "    </tr>\n",
       "    <tr>\n",
       "      <th>4</th>\n",
       "      <td>88013</td>\n",
       "      <td>1296</td>\n",
       "      <td>712</td>\n",
       "      <td>1.820225</td>\n",
       "    </tr>\n",
       "    <tr>\n",
       "      <th>...</th>\n",
       "      <td>...</td>\n",
       "      <td>...</td>\n",
       "      <td>...</td>\n",
       "      <td>...</td>\n",
       "    </tr>\n",
       "    <tr>\n",
       "      <th>95</th>\n",
       "      <td>70598</td>\n",
       "      <td>1897</td>\n",
       "      <td>736</td>\n",
       "      <td>2.577446</td>\n",
       "    </tr>\n",
       "    <tr>\n",
       "      <th>96</th>\n",
       "      <td>60157</td>\n",
       "      <td>2463</td>\n",
       "      <td>684</td>\n",
       "      <td>3.600877</td>\n",
       "    </tr>\n",
       "    <tr>\n",
       "      <th>97</th>\n",
       "      <td>86788</td>\n",
       "      <td>2494</td>\n",
       "      <td>709</td>\n",
       "      <td>3.517630</td>\n",
       "    </tr>\n",
       "    <tr>\n",
       "      <th>98</th>\n",
       "      <td>61903</td>\n",
       "      <td>3297</td>\n",
       "      <td>660</td>\n",
       "      <td>4.995455</td>\n",
       "    </tr>\n",
       "    <tr>\n",
       "      <th>99</th>\n",
       "      <td>66029</td>\n",
       "      <td>2801</td>\n",
       "      <td>698</td>\n",
       "      <td>4.012894</td>\n",
       "    </tr>\n",
       "  </tbody>\n",
       "</table>\n",
       "<p>100 rows × 4 columns</p>\n",
       "</div>"
      ],
      "text/plain": [
       "    income  monthly_spend  credit_score  credit_util_score\n",
       "0    86460           3129           661           4.733737\n",
       "1    66002           1191           668           1.782934\n",
       "2    74681           1237           734           1.685286\n",
       "3    93613           2581           712           3.625000\n",
       "4    88013           1296           712           1.820225\n",
       "..     ...            ...           ...                ...\n",
       "95   70598           1897           736           2.577446\n",
       "96   60157           2463           684           3.600877\n",
       "97   86788           2494           709           3.517630\n",
       "98   61903           3297           660           4.995455\n",
       "99   66029           2801           698           4.012894\n",
       "\n",
       "[100 rows x 4 columns]"
      ]
     },
     "execution_count": 2,
     "metadata": {},
     "output_type": "execute_result"
    }
   ],
   "source": [
    "# Feature 1: Credit utilization adjusted by credit score\n",
    "df['credit_util_score'] = (df['monthly_spend'] / df['credit_score'])\n",
    "df\n"
   ]
  },
  {
   "cell_type": "code",
   "execution_count": null,
   "id": "3ca655f5",
   "metadata": {},
   "outputs": [
    {
     "data": {
      "image/png": "[encoded data removed]",
      "text/plain": [
       "<Figure size 640x480 with 1 Axes>"
      ]
     },
     "metadata": {},
     "output_type": "display_data"
    }
   ],
   "source": [
    "# Optional: Plot or test correlation with target variable (here, target_variable is income)\n",
    "\n",
    "import seaborn as sns\n",
    "import matplotlib.pyplot as plt\n",
    "\n",
    "sns.scatterplot(data=df, x='credit_util_score', y='income')\n",
    "plt.title('Credit Utilization Score vs Income')\n",
    "plt.xlabel('Credit Utilization Score')\n",
    "plt.ylabel('Income')\n",
    "plt.show()\n"
   ]
  },
  {
   "cell_type": "markdown",
   "metadata": {},
   "source": [
    "### Rationale for Feature 1\n",
    "- excellent for assessing risk and financial behavior in context (relative spend vs. credit score)\n",
    "- helps flag customers with high spend relative to their creditworthiness. If monthly spend is high and credit score is low, the resulting ratio will be large, signaling increased potential risk or overextension.\n",
    "- segment customers into groups (e.g., low, medium, high risk) for proactive credit monitoring or targeted marketing, based on quantiles or thresholds of `credit_util_score`."
   ]
  },
  {
   "cell_type": "code",
   "execution_count": null,
   "metadata": {},
   "outputs": [
    {
     "data": {
      "application/vnd.microsoft.datawrangler.viewer.v0+json": {
       "columns": [
        {
         "name": "index",
         "rawType": "int64",
         "type": "integer"
        },
        {
         "name": "income",
         "rawType": "int64",
         "type": "integer"
        },
        {
         "name": "monthly_spend",
         "rawType": "int64",
         "type": "integer"
        },
        {
         "name": "credit_score",
         "rawType": "int64",
         "type": "integer"
        },
        {
         "name": "credit_util_score",
         "rawType": "float64",
         "type": "float"
        },
        {
         "name": "rolling_spend_mean_3",
         "rawType": "float64",
         "type": "float"
        }
       ],
       "ref": "4ea9100f-06d8-42dc-a674-d8298bb10e14",
       "rows": [
        [
         "0",
         "86460",
         "3129",
         "661",
         "4.733736762481089",
         "3129.0"
        ],
        [
         "1",
         "66002",
         "1191",
         "668",
         "1.782934131736527",
         "2160.0"
        ],
        [
         "2",
         "74681",
         "1237",
         "734",
         "1.6852861035422344",
         "1852.3333333333333"
        ],
        [
         "3",
         "93613",
         "2581",
         "712",
         "3.625",
         "1669.6666666666667"
        ],
        [
         "4",
         "88013",
         "1296",
         "712",
         "1.8202247191011236",
         "1704.6666666666667"
        ],
        [
         "5",
         "45340",
         "3166",
         "599",
         "5.285475792988314",
         "2347.6666666666665"
        ],
        [
         "6",
         "74251",
         "1751",
         "678",
         "2.5825958702064895",
         "2071.0"
        ],
        [
         "7",
         "57729",
         "1551",
         "643",
         "2.4121306376360807",
         "2156.0"
        ],
        [
         "8",
         "58451",
         "3153",
         "693",
         "4.54978354978355",
         "2151.6666666666665"
        ],
        [
         "9",
         "66158",
         "2888",
         "675",
         "4.278518518518519",
         "2530.6666666666665"
        ],
        [
         "10",
         "62160",
         "3120",
         "725",
         "4.303448275862069",
         "3053.6666666666665"
        ],
        [
         "11",
         "81814",
         "2543",
         "695",
         "3.6589928057553958",
         "2850.3333333333335"
        ],
        [
         "12",
         "71415",
         "1483",
         "719",
         "2.062586926286509",
         "2382.0"
        ],
        [
         "13",
         "61825",
         "3146",
         "656",
         "4.795731707317073",
         "2390.6666666666665"
        ],
        [
         "14",
         "66657",
         "1839",
         "632",
         "2.9098101265822787",
         "2156.0"
        ],
        [
         "15",
         "65005",
         "2481",
         "659",
         "3.764795144157815",
         "2488.6666666666665"
        ],
        [
         "16",
         "82411",
         "2568",
         "679",
         "3.7820324005891015",
         "2296.0"
        ],
        [
         "17",
         "56922",
         "1906",
         "698",
         "2.7306590257879657",
         "2318.3333333333335"
        ],
        [
         "18",
         "64696",
         "2368",
         "792",
         "2.98989898989899",
         "2280.6666666666665"
        ],
        [
         "19",
         "47188",
         "2553",
         "677",
         "3.771048744460857",
         "2275.6666666666665"
        ],
        [
         "20",
         "21705",
         "2225",
         "632",
         "3.5205696202531644",
         "2382.0"
        ],
        [
         "21",
         "69804",
         "1340",
         "662",
         "2.02416918429003",
         "2039.3333333333333"
        ],
        [
         "22",
         "72966",
         "2178",
         "656",
         "3.3201219512195124",
         "1914.3333333333333"
        ],
        [
         "23",
         "48867",
         "2795",
         "704",
         "3.9701704545454546",
         "2104.3333333333335"
        ],
        [
         "24",
         "94046",
         "1583",
         "602",
         "2.629568106312292",
         "2185.3333333333335"
        ],
        [
         "25",
         "38184",
         "1910",
         "683",
         "2.7964860907759883",
         "2096.0"
        ],
        [
         "26",
         "60686",
         "1738",
         "687",
         "2.529839883551674",
         "1743.6666666666667"
        ],
        [
         "27",
         "57192",
         "3109",
         "691",
         "4.499276410998553",
         "2252.3333333333335"
        ],
        [
         "28",
         "82991",
         "2403",
         "650",
         "3.6969230769230768",
         "2416.6666666666665"
        ],
        [
         "29",
         "82040",
         "2244",
         "668",
         "3.3592814371257487",
         "2585.3333333333335"
        ],
        [
         "30",
         "62324",
         "1538",
         "608",
         "2.5296052631578947",
         "2061.6666666666665"
        ],
        [
         "31",
         "65672",
         "2323",
         "655",
         "3.546564885496183",
         "2035.0"
        ],
        [
         "32",
         "46683",
         "1595",
         "652",
         "2.446319018404908",
         "1818.6666666666667"
        ],
        [
         "33",
         "30288",
         "2019",
         "700",
         "2.8842857142857143",
         "1979.0"
        ],
        [
         "34",
         "54781",
         "1618",
         "622",
         "2.6012861736334405",
         "1744.0"
        ],
        [
         "35",
         "62345",
         "2405",
         "719",
         "3.344923504867872",
         "2014.0"
        ],
        [
         "36",
         "78454",
         "2345",
         "754",
         "3.110079575596817",
         "2122.6666666666665"
        ],
        [
         "37",
         "78035",
         "1875",
         "576",
         "3.2552083333333335",
         "2208.3333333333335"
        ],
        [
         "38",
         "54190",
         "2237",
         "701",
         "3.1911554921540657",
         "2152.3333333333335"
        ],
        [
         "39",
         "55465",
         "1344",
         "713",
         "1.884992987377279",
         "1818.6666666666667"
        ],
        [
         "40",
         "44271",
         "1105",
         "648",
         "1.7052469135802468",
         "1562.0"
        ],
        [
         "41",
         "38699",
         "2263",
         "660",
         "3.4287878787878787",
         "1570.6666666666667"
        ],
        [
         "42",
         "34405",
         "2100",
         "673",
         "3.1203566121842496",
         "1822.6666666666667"
        ],
        [
         "43",
         "89261",
         "2381",
         "665",
         "3.5804511278195488",
         "2248.0"
        ],
        [
         "44",
         "52355",
         "3429",
         "664",
         "5.164156626506024",
         "2636.6666666666665"
        ],
        [
         "45",
         "53428",
         "2566",
         "596",
         "4.305369127516778",
         "2792.0"
        ],
        [
         "46",
         "41208",
         "1452",
         "737",
         "1.9701492537313432",
         "2482.3333333333335"
        ],
        [
         "47",
         "71662",
         "2670",
         "733",
         "3.6425648021828105",
         "2229.3333333333335"
        ],
        [
         "48",
         "35791",
         "1210",
         "639",
         "1.89358372456964",
         "1777.3333333333333"
        ],
        [
         "49",
         "56808",
         "1723",
         "606",
         "2.8432343234323434",
         "1867.6666666666667"
        ]
       ],
       "shape": {
        "columns": 5,
        "rows": 100
       }
      },
      "text/html": [
       "<div>\n",
       "<style scoped>\n",
       "    .dataframe tbody tr th:only-of-type {\n",
       "        vertical-align: middle;\n",
       "    }\n",
       "\n",
       "    .dataframe tbody tr th {\n",
       "        vertical-align: top;\n",
       "    }\n",
       "\n",
       "    .dataframe thead th {\n",
       "        text-align: right;\n",
       "    }\n",
       "</style>\n",
       "<table border=\"1\" class=\"dataframe\">\n",
       "  <thead>\n",
       "    <tr style=\"text-align: right;\">\n",
       "      <th></th>\n",
       "      <th>income</th>\n",
       "      <th>monthly_spend</th>\n",
       "      <th>credit_score</th>\n",
       "      <th>credit_util_score</th>\n",
       "      <th>rolling_spend_mean_3</th>\n",
       "    </tr>\n",
       "  </thead>\n",
       "  <tbody>\n",
       "    <tr>\n",
       "      <th>0</th>\n",
       "      <td>86460</td>\n",
       "      <td>3129</td>\n",
       "      <td>661</td>\n",
       "      <td>4.733737</td>\n",
       "      <td>3129.000000</td>\n",
       "    </tr>\n",
       "    <tr>\n",
       "      <th>1</th>\n",
       "      <td>66002</td>\n",
       "      <td>1191</td>\n",
       "      <td>668</td>\n",
       "      <td>1.782934</td>\n",
       "      <td>2160.000000</td>\n",
       "    </tr>\n",
       "    <tr>\n",
       "      <th>2</th>\n",
       "      <td>74681</td>\n",
       "      <td>1237</td>\n",
       "      <td>734</td>\n",
       "      <td>1.685286</td>\n",
       "      <td>1852.333333</td>\n",
       "    </tr>\n",
       "    <tr>\n",
       "      <th>3</th>\n",
       "      <td>93613</td>\n",
       "      <td>2581</td>\n",
       "      <td>712</td>\n",
       "      <td>3.625000</td>\n",
       "      <td>1669.666667</td>\n",
       "    </tr>\n",
       "    <tr>\n",
       "      <th>4</th>\n",
       "      <td>88013</td>\n",
       "      <td>1296</td>\n",
       "      <td>712</td>\n",
       "      <td>1.820225</td>\n",
       "      <td>1704.666667</td>\n",
       "    </tr>\n",
       "    <tr>\n",
       "      <th>...</th>\n",
       "      <td>...</td>\n",
       "      <td>...</td>\n",
       "      <td>...</td>\n",
       "      <td>...</td>\n",
       "      <td>...</td>\n",
       "    </tr>\n",
       "    <tr>\n",
       "      <th>95</th>\n",
       "      <td>70598</td>\n",
       "      <td>1897</td>\n",
       "      <td>736</td>\n",
       "      <td>2.577446</td>\n",
       "      <td>1836.333333</td>\n",
       "    </tr>\n",
       "    <tr>\n",
       "      <th>96</th>\n",
       "      <td>60157</td>\n",
       "      <td>2463</td>\n",
       "      <td>684</td>\n",
       "      <td>3.600877</td>\n",
       "      <td>2224.333333</td>\n",
       "    </tr>\n",
       "    <tr>\n",
       "      <th>97</th>\n",
       "      <td>86788</td>\n",
       "      <td>2494</td>\n",
       "      <td>709</td>\n",
       "      <td>3.517630</td>\n",
       "      <td>2284.666667</td>\n",
       "    </tr>\n",
       "    <tr>\n",
       "      <th>98</th>\n",
       "      <td>61903</td>\n",
       "      <td>3297</td>\n",
       "      <td>660</td>\n",
       "      <td>4.995455</td>\n",
       "      <td>2751.333333</td>\n",
       "    </tr>\n",
       "    <tr>\n",
       "      <th>99</th>\n",
       "      <td>66029</td>\n",
       "      <td>2801</td>\n",
       "      <td>698</td>\n",
       "      <td>4.012894</td>\n",
       "      <td>2864.000000</td>\n",
       "    </tr>\n",
       "  </tbody>\n",
       "</table>\n",
       "<p>100 rows × 5 columns</p>\n",
       "</div>"
      ],
      "text/plain": [
       "    income  monthly_spend  credit_score  credit_util_score  \\\n",
       "0    86460           3129           661           4.733737   \n",
       "1    66002           1191           668           1.782934   \n",
       "2    74681           1237           734           1.685286   \n",
       "3    93613           2581           712           3.625000   \n",
       "4    88013           1296           712           1.820225   \n",
       "..     ...            ...           ...                ...   \n",
       "95   70598           1897           736           2.577446   \n",
       "96   60157           2463           684           3.600877   \n",
       "97   86788           2494           709           3.517630   \n",
       "98   61903           3297           660           4.995455   \n",
       "99   66029           2801           698           4.012894   \n",
       "\n",
       "    rolling_spend_mean_3  \n",
       "0            3129.000000  \n",
       "1            2160.000000  \n",
       "2            1852.333333  \n",
       "3            1669.666667  \n",
       "4            1704.666667  \n",
       "..                   ...  \n",
       "95           1836.333333  \n",
       "96           2224.333333  \n",
       "97           2284.666667  \n",
       "98           2751.333333  \n",
       "99           2864.000000  \n",
       "\n",
       "[100 rows x 5 columns]"
      ]
     },
     "execution_count": 3,
     "metadata": {},
     "output_type": "execute_result"
    }
   ],
   "source": [
    "# Feature 2: Rolling average of monthly spend over last 3 periods (assuming time-ordered data)\n",
    "df['rolling_spend_mean_3'] = df['monthly_spend'].rolling(window=3, min_periods=1).mean()\n",
    "df\n"
   ]
  },
  {
   "cell_type": "code",
   "execution_count": 6,
   "id": "c8e951a4",
   "metadata": {},
   "outputs": [
    {
     "data": {
      "image/png": "[encoded data removed]",
      "text/plain": [
       "<Figure size 640x480 with 1 Axes>"
      ]
     },
     "metadata": {},
     "output_type": "display_data"
    }
   ],
   "source": [
    "# Optional: Plot or test correlation with target variable (here, target_variable is credit_score)\n",
    "sns.scatterplot(data=df, x='rolling_spend_mean_3', y='credit_score')\n",
    "plt.title('Rolling Spend Mean (3) vs Credit Score')\n",
    "plt.xlabel('Rolling 3-Period Spend')\n",
    "plt.ylabel('Credit Score')\n",
    "plt.show()\n"
   ]
  },
  {
   "cell_type": "markdown",
   "metadata": {},
   "source": [
    "### Rationale for Feature 2\n",
    "- smoothing monthly spend, you can detect if a customer’s spending is trending up or down—valuable for understanding changing behavior or anticipating future risk.\n",
    "- rolling averages help reduce noise from one-off spikes. When used in a model, they stabilize predictions and reduce overreaction to extreme monthly values.\n",
    "- sudden surge in the rolling mean can trigger alerts to review a customer’s recent financial activities."
   ]
  },
  {
   "cell_type": "markdown",
   "id": "4236b310",
   "metadata": {},
   "source": []
  }
 ],
 "metadata": {
  "kernelspec": {
   "display_name": "bootcamp_env",
   "language": "python",
   "name": "python3"
  },
  "language_info": {
   "codemirror_mode": {
    "name": "ipython",
    "version": 3
   },
   "file_extension": ".py",
   "mimetype": "text/x-python",
   "name": "python",
   "nbconvert_exporter": "python",
   "pygments_lexer": "ipython3",
   "version": "3.13.5"
  }
 },
 "nbformat": 4,
 "nbformat_minor": 5
}
