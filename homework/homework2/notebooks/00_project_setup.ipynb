{
 "cells": [
  {
   "cell_type": "markdown",
   "id": "7624521a",
   "metadata": {},
   "source": [
    "# Environment & Config Check"
   ]
  },
  {
   "cell_type": "code",
   "execution_count": 1,
   "id": "8b82626f",
   "metadata": {},
   "outputs": [
    {
     "name": "stdout",
     "output_type": "stream",
     "text": [
      "Environment Path: /Users/6ixe11even/bootcamp_tejas_pandya/homework/homework2/.env\n",
      ".env loaded (if present)\n",
      "src directory: /Users/6ixe11even/bootcamp_tejas_pandya/homework/homework2/src\n"
     ]
    }
   ],
   "source": [
    "# getting path of src folder to import config file\n",
    "import os, sys\n",
    "from pathlib import Path\n",
    "from dotenv import load_dotenv\n",
    "\n",
    "# Loading .env file\n",
    "env_path = Path.cwd().parent / \".env\"\n",
    "print(\"Environment Path:\",env_path)\n",
    "try:\n",
    "    load_dotenv(env_path)\n",
    "    print(\".env loaded (if present)\")\n",
    "except:\n",
    "    print(\".env is not present in the parent directory!\")\n",
    "\n",
    "# Loading config script\n",
    "src_path = Path.cwd().parent / \"src\"\n",
    "sys.path.append(str(src_path))\n",
    "print(\"src directory:\", src_path)\n",
    "from config import get_key"
   ]
  },
  {
   "cell_type": "markdown",
   "id": "fdc480ea",
   "metadata": {},
   "source": [
    "## Checking for API_KEY and DATA_DIR"
   ]
  },
  {
   "cell_type": "code",
   "execution_count": 2,
   "id": "02d3230a",
   "metadata": {},
   "outputs": [
    {
     "name": "stdout",
     "output_type": "stream",
     "text": [
      "API_KEY present: dummy_key_123\n",
      "DATA_DIR from env: ./data\n",
      "Ensured data directory exists.\n"
     ]
    }
   ],
   "source": [
    "key = get_key(\"API_KEY\")\n",
    "print(\"API_KEY present:\", key)\n",
    "\n",
    "data_path = get_key(\"DATA_DIR\")\n",
    "print(\"DATA_DIR from env:\", data_path)\n",
    "\n",
    "# Ensure data directory exists (non-destructive)\n",
    "Path(data_path).parent.mkdir(parents=True, exist_ok=True)\n",
    "print(\"Ensured data directory exists.\")"
   ]
  },
  {
   "cell_type": "markdown",
   "id": "eb7329fc",
   "metadata": {},
   "source": [
    "## Testing numpy"
   ]
  },
  {
   "cell_type": "code",
   "execution_count": 3,
   "id": "d0f021aa",
   "metadata": {},
   "outputs": [
    {
     "name": "stdout",
     "output_type": "stream",
     "text": [
      "Original Even Array: [ 2  4  6  8 10]\n",
      "Derived Odd Array: [ 3  5  7  9 11]\n"
     ]
    }
   ],
   "source": [
    "import numpy as np\n",
    "arr1 = np.array([2,4,6,8,10])\n",
    "print(\"Original Even Array:\", arr1)\n",
    "print(\"Derived Odd Array:\", arr1 + 1)"
   ]
  }
 ],
 "metadata": {
  "kernelspec": {
   "display_name": "fe-course",
   "language": "python",
   "name": "python3"
  },
  "language_info": {
   "codemirror_mode": {
    "name": "ipython",
    "version": 3
   },
   "file_extension": ".py",
   "mimetype": "text/x-python",
   "name": "python",
   "nbconvert_exporter": "python",
   "pygments_lexer": "ipython3",
   "version": "3.13.5"
  }
 },
 "nbformat": 4,
 "nbformat_minor": 5
}
