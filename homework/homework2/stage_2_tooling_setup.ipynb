{
 "cells": [
  {
   "cell_type": "markdown",
   "id": "16fc3af9",
   "metadata": {},
   "source": [
    "# Stage 2: Tooling Setup"
   ]
  },
  {
   "cell_type": "code",
   "execution_count": 20,
   "id": "a6c659d8",
   "metadata": {},
   "outputs": [],
   "source": [
    "# Setting up folder tree structure and creating main directory (if it doesn't exists)\n",
    "import os, textwrap, pathlib\n",
    "\n",
    "REPO_NAME = \"homework2\"  # change as desired\n",
    "FOLDERS = [\"data\", \"src\", \"notebooks\"]\n",
    "\n",
    "base = pathlib.Path.cwd()\n",
    "base.mkdir(exist_ok=True)\n",
    "\n",
    "for f in FOLDERS:\n",
    "    (base / f).mkdir(parents=True, exist_ok=True)"
   ]
  },
  {
   "cell_type": "code",
   "execution_count": 21,
   "id": "0d98dc4f",
   "metadata": {},
   "outputs": [
    {
     "data": {
      "text/plain": [
       "PosixPath('/Users/6ixe11even/bootcamp_tejas_pandya/homework/homework2/README.md')"
      ]
     },
     "execution_count": 21,
     "metadata": {},
     "output_type": "execute_result"
    }
   ],
   "source": [
    "# Creating the README.md file\n",
    "\n",
    "README_TEMPLATE = textwrap.dedent(\"\"\"\n",
    "# Project Title\n",
    "**Stage 2:** Tooling Setup\n",
    "\n",
    "## Problem Statement\n",
    "Mr. Wayne, an active portfolio manager at IB International, wants to understand whether the trading strategy will work under certain depression periods.\n",
    "\n",
    "In order to stress test the model, a python script is required with Input controls and scenario testing capabilities.\n",
    "\n",
    "## Repo Plan\n",
    "/data/, /src/, /notebooks/ ; cadence for updates\n",
    "\"\"\")\n",
    "\n",
    "readme_path = base / \"README.md\"\n",
    "if not readme_path.exists():\n",
    "    readme_path.write_text(README_TEMPLATE, encoding=\"utf-8\")\n",
    "readme_path.resolve()"
   ]
  },
  {
   "cell_type": "code",
   "execution_count": 22,
   "id": "043b3169",
   "metadata": {},
   "outputs": [
    {
     "name": "stdout",
     "output_type": "stream",
     "text": [
      "Python Version: 3.13.5 | packaged by Anaconda, Inc. | (main, Jun 12 2025, 11:23:37) [Clang 14.0.6 ]\n",
      "Interpreter Path: /Users/6ixe11even/miniconda3/envs/fe-course/bin/python\n"
     ]
    }
   ],
   "source": [
    "# Checking Python Version and interpreter path\n",
    "import sys\n",
    "print(f\"Python Version: {sys.version}\")\n",
    "print(f\"Interpreter Path: {sys.executable}\")"
   ]
  },
  {
   "cell_type": "code",
   "execution_count": 23,
   "id": "e8bd6114",
   "metadata": {},
   "outputs": [
    {
     "name": "stdout",
     "output_type": "stream",
     "text": [
      "All imports are good!\n"
     ]
    }
   ],
   "source": [
    "# Checking if all libraries import is successful\n",
    "try:\n",
    "    from dotenv import load_dotenv\n",
    "    import numpy as np\n",
    "    print(\"All imports are good!\")\n",
    "except Exception as e:\n",
    "    print(\"There is an import error!\")\n",
    "    print(e)\n",
    "    raise\n",
    "\n"
   ]
  },
  {
   "cell_type": "markdown",
   "id": "81857137",
   "metadata": {},
   "source": [
    "## Checking if .env is present"
   ]
  },
  {
   "cell_type": "code",
   "execution_count": 29,
   "id": "7844ef70",
   "metadata": {},
   "outputs": [
    {
     "name": "stdout",
     "output_type": "stream",
     "text": [
      ".env file is present in current or parent directory\n"
     ]
    }
   ],
   "source": [
    "try:\n",
    "    load_dotenv()\n",
    "    print(\".env file is present in current or parent directory\")\n",
    "except Exception as e:\n",
    "    print(\"No .env file present!\",e)"
   ]
  }
 ],
 "metadata": {
  "kernelspec": {
   "display_name": "fe-course",
   "language": "python",
   "name": "python3"
  },
  "language_info": {
   "codemirror_mode": {
    "name": "ipython",
    "version": 3
   },
   "file_extension": ".py",
   "mimetype": "text/x-python",
   "name": "python",
   "nbconvert_exporter": "python",
   "pygments_lexer": "ipython3",
   "version": "3.13.5"
  }
 },
 "nbformat": 4,
 "nbformat_minor": 5
}
