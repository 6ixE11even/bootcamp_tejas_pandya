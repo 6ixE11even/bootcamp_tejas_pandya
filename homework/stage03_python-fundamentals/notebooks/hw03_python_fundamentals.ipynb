{
 "cells": [
  {
   "cell_type": "markdown",
   "id": "b3ec705c",
   "metadata": {},
   "source": [
    "## 1. Numpy Operations"
   ]
  },
  {
   "cell_type": "code",
   "execution_count": 1,
   "id": "1f2fedda",
   "metadata": {},
   "outputs": [
    {
     "name": "stdout",
     "output_type": "stream",
     "text": [
      "Array 1: [ 1  2  3  4  5  6  7  8  9 10]\n",
      "Array 2: [ 2  4  6  8 10 12 14 16 18 20]\n",
      "Array 3: [ 3  6  9 12 15 18 21 24 27 30]\n"
     ]
    }
   ],
   "source": [
    "import numpy as np\n",
    "\n",
    "arr1 = np.array([1,2,3,4,5,6,7,8,9,10])\n",
    "arr2 = np.empty_like(arr1)\n",
    "arr3 = np.empty_like(arr1)\n",
    "print(\"Array 1:\",arr1)\n",
    "\n",
    "# performing elementwise operation\n",
    "for idx in range(len(arr1)):\n",
    "    arr2[idx] = arr1[idx] * 2\n",
    "print(\"Array 2:\",arr2)\n",
    "\n",
    "# performing vectorized operation\n",
    "arr3 = arr1 * 3\n",
    "print(\"Array 3:\", arr3)"
   ]
  },
  {
   "cell_type": "markdown",
   "id": "8876c900",
   "metadata": {},
   "source": [
    "## 2. Dataset Loading"
   ]
  },
  {
   "cell_type": "code",
   "execution_count": 2,
   "id": "d6096a21",
   "metadata": {},
   "outputs": [
    {
     "name": "stdout",
     "output_type": "stream",
     "text": [
      "/Users/6ixe11even/bootcamp_tejas_pandya/homework/homework3/data\n",
      "\n",
      "Here is the basic information about the dataset\n",
      "<class 'pandas.core.frame.DataFrame'>\n",
      "RangeIndex: 10 entries, 0 to 9\n",
      "Data columns (total 3 columns):\n",
      " #   Column    Non-Null Count  Dtype \n",
      "---  ------    --------------  ----- \n",
      " 0   category  10 non-null     object\n",
      " 1   value     10 non-null     int64 \n",
      " 2   date      10 non-null     object\n",
      "dtypes: int64(1), object(2)\n",
      "memory usage: 372.0+ bytes\n",
      "None\n",
      "\n",
      "Here are the top 5 rows of the dataset!\n",
      "  category  value        date\n",
      "0        A     10  2025-08-01\n",
      "1        B     15  2025-08-02\n",
      "2        A     12  2025-08-03\n",
      "3        B     18  2025-08-04\n",
      "4        C     25  2025-08-05\n"
     ]
    }
   ],
   "source": [
    "# reading csv file from data folder\n",
    "import pandas as pd\n",
    "from pathlib import Path\n",
    "\n",
    "# getting path of the starter_data.csv\n",
    "data_csv = Path.cwd().parent / \"data\"\n",
    "print(data_csv)\n",
    "\n",
    "df = pd.read_csv(str(data_csv)+\"/starter_data.csv\")\n",
    "print(\"\\nHere is the basic information about the dataset\")\n",
    "print(df.info())\n",
    "print(\"\\nHere are the top 5 rows of the dataset!\")\n",
    "print(df.head(5))"
   ]
  },
  {
   "cell_type": "markdown",
   "id": "86f4ed33",
   "metadata": {},
   "source": [
    "## 3. Summary Statistics"
   ]
  },
  {
   "cell_type": "code",
   "execution_count": 17,
   "id": "a17792f0",
   "metadata": {},
   "outputs": [
    {
     "name": "stdout",
     "output_type": "stream",
     "text": [
      "Dataset Description:\n",
      "           value\n",
      "count  10.000000\n",
      "mean   17.600000\n",
      "std     7.381659\n",
      "min    10.000000\n",
      "25%    12.250000\n",
      "50%    14.500000\n",
      "75%    23.250000\n",
      "max    30.000000\n",
      "\n",
      "Grouping data by category\n",
      "  category  value\n",
      "0        A     46\n",
      "1        B     47\n",
      "2        C     83\n"
     ]
    }
   ],
   "source": [
    "print(\"Dataset Description:\")\n",
    "print(df.describe())\n",
    "\n",
    "print(\"\\nGrouping data by category\")\n",
    "df2 = df.groupby(by=\"category\",as_index=False).sum(numeric_only=True)\n",
    "print(df2)"
   ]
  },
  {
   "cell_type": "markdown",
   "id": "e944ff8a",
   "metadata": {},
   "source": [
    "## 4. Saving outputs"
   ]
  },
  {
   "cell_type": "code",
   "execution_count": 21,
   "id": "3a41c97d",
   "metadata": {},
   "outputs": [
    {
     "data": {
      "image/png": "[encoded data removed]",
      "text/plain": [
       "<Figure size 640x480 with 1 Axes>"
      ]
     },
     "metadata": {},
     "output_type": "display_data"
    }
   ],
   "source": [
    "# saving summary.csv\n",
    "summary_data = df.describe()\n",
    "summary_data_save_path = str(Path.cwd().parent / \"data\" / \"processed\") + \"/summary.csv\"\n",
    "summary_data.to_csv(summary_data_save_path)\n",
    "\n",
    "# creating basic plot\n",
    "import matplotlib.pyplot as plt\n",
    "df2.plot(x=\"category\", y=\"value\",kind='bar')\n",
    "\n",
    "\n",
    "plot_save_path = str(Path.cwd().parent / \"data\" / \"processed\") + \"/plot.png\"\n",
    "plt.savefig(plot_save_path)\n",
    "plt.show()"
   ]
  },
  {
   "cell_type": "markdown",
   "id": "cb3d378a",
   "metadata": {},
   "source": [
    "## 5. Reusable Functions"
   ]
  },
  {
   "cell_type": "code",
   "execution_count": null,
   "id": "f8dae7bb",
   "metadata": {},
   "outputs": [
    {
     "name": "stdout",
     "output_type": "stream",
     "text": [
      "           value\n",
      "count  10.000000\n",
      "mean   17.600000\n",
      "std     7.381659\n",
      "min    10.000000\n",
      "25%    12.250000\n",
      "50%    14.500000\n",
      "75%    23.250000\n",
      "max    30.000000\n"
     ]
    }
   ],
   "source": [
    "# getting utils python script path\n",
    "import os, sys\n",
    "utils_path = Path.cwd().parent / \"src\"\n",
    "sys.path.append(str(utils_path))\n",
    "from utils import get_summary_stats\n",
    "\n",
    "# calling summary function from utils\n",
    "summary_df = get_summary_stats(df)\n",
    "print(summary_df)"
   ]
  }
 ],
 "metadata": {
  "kernelspec": {
   "display_name": "bootcamp_env",
   "language": "python",
   "name": "python3"
  },
  "language_info": {
   "codemirror_mode": {
    "name": "ipython",
    "version": 3
   },
   "file_extension": ".py",
   "mimetype": "text/x-python",
   "name": "python",
   "nbconvert_exporter": "python",
   "pygments_lexer": "ipython3",
   "version": "3.13.5"
  }
 },
 "nbformat": 4,
 "nbformat_minor": 5
}
